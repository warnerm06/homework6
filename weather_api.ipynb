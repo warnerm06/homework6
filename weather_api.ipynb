{
 "cells": [
  {
   "cell_type": "markdown",
   "metadata": {},
   "source": [
    "### OpenWeatherMap\n",
    "Free Weather API\n",
    "\n",
    "https://openweathermap.org/\n",
    "#### Create account\n",
    "1. Create your account. \n",
    "2. Generate API Key.\n",
    "3. Create a file called `api_keys.py`\n",
    "    - add a variable `api_key = 'YOUR API KEY HERE'`\n",
    "4. Save API key.\n",
    "5. Add `.gitignore file`\n",
    "    - Open your terminal. \n",
    "    - cd into this repo.\n",
    "    - `touch .gitignore`\n",
    "    - open `.gitignore`\n",
    "    - add a line `api_keys.py` to the file\n",
    "    - this file will instruct git to ignore these files\n",
    "    - You do not want API keys to be available to the public!"
   ]
  },
  {
   "cell_type": "markdown",
   "metadata": {},
   "source": [
    "#### Add an api key file\n",
    "1. Create a file in this directory called `api_keys.py`\n",
    "2. add the line `api_key=\"YOUR_KEY_HERE\"`\n",
    "3. Place your generated key into this file.\n",
    "3. Be sure to SAVE the file."
   ]
  },
  {
   "cell_type": "code",
   "execution_count": 10,
   "metadata": {},
   "outputs": [
    {
     "name": "stdout",
     "output_type": "stream",
     "text": [
      "48c662d8e2fbc87db3c1601e94215d84\n"
     ]
    }
   ],
   "source": [
    "from api_keys import api_key\n",
    "\n",
    "# you imported a variable name api_key\n",
    "# keys should be kept safe! \n",
    "print(api_key)\n",
    "\n",
    "# Another note about imports. Once you do an import Python will not do it again even if you call import again. \n",
    "# It will just skip it. You are importing your api_keys. If you make a change and rerun the cell the value will be the same. \n",
    "# You must restart your kernel in a jupyter notebook to do a fresh import. \n",
    "# This can be a strange bug for beginners. \n",
    "\n",
    "# OPTIONAL: Change the variable value of your API key and watch this in action!"
   ]
  },
  {
   "cell_type": "markdown",
   "metadata": {},
   "source": [
    "#### Do the following in a terminal:\n",
    "`pip install requests citipy`"
   ]
  },
  {
   "cell_type": "code",
   "execution_count": 2,
   "metadata": {},
   "outputs": [],
   "source": [
    "# pprint is already installed\n",
    "import requests, citipy, pandas as pd\n",
    "from pprint import pprint"
   ]
  },
  {
   "cell_type": "markdown",
   "metadata": {},
   "source": [
    "[URL Link1](https://developer.mozilla.org/en-US/docs/Learn/Common_questions/What_is_a_URL)\n",
    "\n",
    "[URL Link2](https://websitebuilders.com/how-to/web-at-a-glance/url-anatomy/)\n",
    "\n",
    "[Requests Library Documentation](https://requests.readthedocs.io/en/master/user/quickstart/)\n",
    "\n",
    "Pay particular attention to the `parameters` section. "
   ]
  },
  {
   "cell_type": "code",
   "execution_count": 3,
   "metadata": {},
   "outputs": [
    {
     "name": "stdout",
     "output_type": "stream",
     "text": [
      "<!doctype html>\n",
      "<html>\n",
      "<head>\n",
      "    <title>Example Domain</title>\n",
      "\n",
      "    <meta charset=\"utf-8\" />\n",
      "    <meta http-equiv=\"Content-type\" content=\"text/html; charset=utf-8\" />\n",
      "    <meta name=\"viewport\" content=\"width=device-width, initial-scale=1\" />\n",
      "    <style type=\"text/css\">\n",
      "    body {\n",
      "        background-color: #f0f0f2;\n",
      "        margin: 0;\n",
      "        padding: 0;\n",
      "        font-family: -apple-system, system-ui, BlinkMacSystemFont, \"Segoe UI\", \"Open Sans\", \"Helvetica Neue\", Helvetica, Arial, sans-serif;\n",
      "        \n",
      "    }\n",
      "    div {\n",
      "        width: 600px;\n",
      "        margin: 5em auto;\n",
      "        padding: 2em;\n",
      "        background-color: #fdfdff;\n",
      "        border-radius: 0.5em;\n",
      "        box-shadow: 2px 3px 7px 2px rgba(0,0,0,0.02);\n",
      "    }\n",
      "    a:link, a:visited {\n",
      "        color: #38488f;\n",
      "        text-decoration: none;\n",
      "    }\n",
      "    @media (max-width: 700px) {\n",
      "        div {\n",
      "            margin: 0 auto;\n",
      "            width: auto;\n",
      "        }\n",
      "    }\n",
      "    </style>    \n",
      "</head>\n",
      "\n",
      "<body>\n",
      "<div>\n",
      "    <h1>Example Domain</h1>\n",
      "    <p>This domain is for use in illustrative examples in documents. You may use this\n",
      "    domain in literature without prior coordination or asking for permission.</p>\n",
      "    <p><a href=\"https://www.iana.org/domains/example\">More information...</a></p>\n",
      "</div>\n",
      "</body>\n",
      "</html>\n",
      "\n"
     ]
    }
   ],
   "source": [
    "# variable for a url\n",
    "url = 'http://www.example.com'\n",
    "\n",
    "# Very popular and great example of good python library\n",
    "# the requests library is used to send all types of http requests\n",
    "req = requests.get(url)\n",
    "\n",
    "# Uncommment dir(req) and see what's available to you.\n",
    "# dir(req)\n",
    "\n",
    "print(req.text)\n",
    "# req.text gives html\n",
    "# This is how web-scraping is done. \n",
    "# Note the html tags"
   ]
  },
  {
   "cell_type": "code",
   "execution_count": 4,
   "metadata": {},
   "outputs": [
    {
     "name": "stdout",
     "output_type": "stream",
     "text": [
      "{\"coord\":{\"lon\":-80.19,\"lat\":25.77},\"weather\":[{\"id\":803,\"main\":\"Clouds\",\"description\":\"broken clouds\",\"icon\":\"04d\"}],\"base\":\"stations\",\"main\":{\"temp\":88.09,\"feels_like\":90.79,\"temp_min\":87.01,\"temp_max\":90,\"pressure\":1011,\"humidity\":66},\"visibility\":10000,\"wind\":{\"speed\":13.87,\"deg\":170,\"gust\":19.46},\"clouds\":{\"all\":75},\"dt\":1600378377,\"sys\":{\"type\":1,\"id\":4896,\"country\":\"US\",\"sunrise\":1600340857,\"sunset\":1600384962},\"timezone\":-14400,\"id\":4164138,\"name\":\"Miami\",\"cod\":200}\n"
     ]
    }
   ],
   "source": [
    "# get weather data for saint louis\n",
    "\n",
    "# base url for all requests. We can change the city to find data for different cities\n",
    "base_url = \"http://api.openweathermap.org/data/2.5/weather?units=Imperial&APPID=\" + api_key\n",
    "city = 'miami'\n",
    "\n",
    "# f-strings to the rescue!\n",
    "# Note the parameter formating\n",
    "req = requests.get(base_url + f'&q={city}')\n",
    "\n",
    "# generate a string of data\n",
    "print(req.text)\n"
   ]
  },
  {
   "cell_type": "code",
   "execution_count": 5,
   "metadata": {},
   "outputs": [
    {
     "name": "stdout",
     "output_type": "stream",
     "text": [
      "<class 'dict'>\n",
      "{'coord': {'lon': -80.19, 'lat': 25.77}, 'weather': [{'id': 803, 'main': 'Clouds', 'description': 'broken clouds', 'icon': '04d'}], 'base': 'stations', 'main': {'temp': 88.09, 'feels_like': 90.79, 'temp_min': 87.01, 'temp_max': 90, 'pressure': 1011, 'humidity': 66}, 'visibility': 10000, 'wind': {'speed': 13.87, 'deg': 170, 'gust': 19.46}, 'clouds': {'all': 75}, 'dt': 1600378377, 'sys': {'type': 1, 'id': 4896, 'country': 'US', 'sunrise': 1600340857, 'sunset': 1600384962}, 'timezone': -14400, 'id': 4164138, 'name': 'Miami', 'cod': 200}\n"
     ]
    }
   ],
   "source": [
    "# parsing a string to extract the data is a pain! \n",
    "# Let's get something more useful.\n",
    "\n",
    "#turn into json/dict format\n",
    "json_data = req.json()\n",
    "print(type(json_data))\n",
    "print(json_data)"
   ]
  },
  {
   "cell_type": "code",
   "execution_count": 6,
   "metadata": {},
   "outputs": [
    {
     "name": "stdout",
     "output_type": "stream",
     "text": [
      "{'base': 'stations',\n",
      " 'clouds': {'all': 75},\n",
      " 'cod': 200,\n",
      " 'coord': {'lat': 25.77, 'lon': -80.19},\n",
      " 'dt': 1600378377,\n",
      " 'id': 4164138,\n",
      " 'main': {'feels_like': 90.79,\n",
      "          'humidity': 66,\n",
      "          'pressure': 1011,\n",
      "          'temp': 88.09,\n",
      "          'temp_max': 90,\n",
      "          'temp_min': 87.01},\n",
      " 'name': 'Miami',\n",
      " 'sys': {'country': 'US',\n",
      "         'id': 4896,\n",
      "         'sunrise': 1600340857,\n",
      "         'sunset': 1600384962,\n",
      "         'type': 1},\n",
      " 'timezone': -14400,\n",
      " 'visibility': 10000,\n",
      " 'weather': [{'description': 'broken clouds',\n",
      "              'icon': '04d',\n",
      "              'id': 803,\n",
      "              'main': 'Clouds'}],\n",
      " 'wind': {'deg': 170, 'gust': 19.46, 'speed': 13.87}}\n"
     ]
    }
   ],
   "source": [
    "# Hmm.... still hard to read. \n",
    "# Let's pretty print it! \n",
    "pprint(json_data)\n",
    "# Much easier to read! \n",
    "# Note the nested dictionaries and nested lists"
   ]
  },
  {
   "cell_type": "code",
   "execution_count": 7,
   "metadata": {},
   "outputs": [
    {
     "name": "stdout",
     "output_type": "stream",
     "text": [
      "1011\n"
     ]
    }
   ],
   "source": [
    "# Access data by traversing the dictionary. \n",
    "# Use dictionary access and list access methods\n",
    "# access wind info\n",
    "\n",
    "wind = json_data['main']['pressure']\n",
    "print(wind)"
   ]
  },
  {
   "cell_type": "code",
   "execution_count": 8,
   "metadata": {},
   "outputs": [],
   "source": [
    "# Lists can also be used in JSON/dicts\n",
    "# access weather description\n",
    "\n",
    "weather_desc = json_data['weather'][0]['description']"
   ]
  },
  {
   "cell_type": "markdown",
   "metadata": {},
   "source": [
    "#### Final Thoughts:\n",
    "1. APIs limit requests. Especially free ones. \n",
    "2. If you run out of requests you will have to wait until more are allowed. \n",
    "3. For the homework: Run small batches of requests until you get good code. Then run all requests. \n",
    "4. Avoid unecessarily running the code to make API calls once it's working. \n",
    "5. API calls can be notoriously slow! \n",
    "6. This HW is a gread candiate for your portfolio! Start early and make it awesome! "
   ]
  },
  {
   "cell_type": "markdown",
   "metadata": {},
   "source": [
    "https://restfulapi.net/http-methods/"
   ]
  },
  {
   "cell_type": "code",
   "execution_count": 9,
   "metadata": {},
   "outputs": [
    {
     "name": "stdout",
     "output_type": "stream",
     "text": [
      "{'city': ['Denver', 'Miami', 'Phoenix'],\n",
      " 'humidity': [9, 66, 8],\n",
      " 'pressure': [1024, 1011, 1011]}\n"
     ]
    },
    {
     "data": {
      "text/html": [
       "<div>\n",
       "<style scoped>\n",
       "    .dataframe tbody tr th:only-of-type {\n",
       "        vertical-align: middle;\n",
       "    }\n",
       "\n",
       "    .dataframe tbody tr th {\n",
       "        vertical-align: top;\n",
       "    }\n",
       "\n",
       "    .dataframe thead th {\n",
       "        text-align: right;\n",
       "    }\n",
       "</style>\n",
       "<table border=\"1\" class=\"dataframe\">\n",
       "  <thead>\n",
       "    <tr style=\"text-align: right;\">\n",
       "      <th></th>\n",
       "      <th>city</th>\n",
       "      <th>humidity</th>\n",
       "      <th>pressure</th>\n",
       "    </tr>\n",
       "  </thead>\n",
       "  <tbody>\n",
       "    <tr>\n",
       "      <th>0</th>\n",
       "      <td>Denver</td>\n",
       "      <td>9</td>\n",
       "      <td>1024</td>\n",
       "    </tr>\n",
       "    <tr>\n",
       "      <th>1</th>\n",
       "      <td>Miami</td>\n",
       "      <td>66</td>\n",
       "      <td>1011</td>\n",
       "    </tr>\n",
       "    <tr>\n",
       "      <th>2</th>\n",
       "      <td>Phoenix</td>\n",
       "      <td>8</td>\n",
       "      <td>1011</td>\n",
       "    </tr>\n",
       "  </tbody>\n",
       "</table>\n",
       "</div>"
      ],
      "text/plain": [
       "      city  humidity  pressure\n",
       "0   Denver         9      1024\n",
       "1    Miami        66      1011\n",
       "2  Phoenix         8      1011"
      ]
     },
     "execution_count": 9,
     "metadata": {},
     "output_type": "execute_result"
    }
   ],
   "source": [
    "# Create a list of cities of your choice\n",
    "\n",
    "cities_list = ['denver', 'miami', 'phoenix']\n",
    "\n",
    "# Create data structure to hold data points (at least 2)\n",
    "\n",
    "city_weather = {\"city\":[],\n",
    "                \"humidity\":[],\n",
    "                \"pressure\":[]}\n",
    "\n",
    "# Loop over list of cities and add data to data structure\n",
    "\n",
    "for city in cities_list:\n",
    "    base_url = \"http://api.openweathermap.org/data/2.5/weather?units=Imperial&APPID=\" + api_key\n",
    "    \n",
    "    # send http request\n",
    "    req = requests.get(base_url + f'&q={city}')\n",
    "    \n",
    "    # jsonify data becaus it's text\n",
    "    data = req.json()\n",
    "    \n",
    "    #add values to our city_weater dict\n",
    "    city_weather[\"city\"].append(data['name'])\n",
    "    city_weather[\"humidity\"].append(data['main']['humidity'])\n",
    "    city_weather[\"pressure\"].append(data['main']['pressure'])\n",
    "    \n",
    "    \n",
    "    \n",
    "# print our data\n",
    "pprint(city_weather)\n",
    "\n",
    "# convert to DataFrame\n",
    "\n",
    "weather_df = pd.DataFrame.from_dict(city_weather)\n",
    "weather_df"
   ]
  },
  {
   "cell_type": "markdown",
   "metadata": {},
   "source": [
    "### Bonus A'Biel's Question\n",
    "What does the webiste of an API look like? \n",
    "\n",
    "You will get data back but not in HTML format\n",
    "\n",
    "Replace the `<API_KEY>` with your api_key and visit the site. Remove the `<>` too! \n",
    "\n",
    "Depending on your browser you should see json data.\n",
    "\n",
    "Don't try to click this lik without editing the API key. It won't work. Copy and edit in your browser.\n",
    "\n",
    "`http://api.openweathermap.org/data/2.5/weather?units=Imperial&APPID=<API_KEY>&q=phoenix`"
   ]
  },
  {
   "cell_type": "code",
   "execution_count": null,
   "metadata": {},
   "outputs": [],
   "source": []
  },
  {
   "cell_type": "code",
   "execution_count": null,
   "metadata": {},
   "outputs": [],
   "source": []
  },
  {
   "cell_type": "code",
   "execution_count": null,
   "metadata": {},
   "outputs": [],
   "source": []
  }
 ],
 "metadata": {
  "kernelspec": {
   "display_name": "Python 3",
   "language": "python",
   "name": "python3"
  },
  "language_info": {
   "codemirror_mode": {
    "name": "ipython",
    "version": 3
   },
   "file_extension": ".py",
   "mimetype": "text/x-python",
   "name": "python",
   "nbconvert_exporter": "python",
   "pygments_lexer": "ipython3",
   "version": "3.8.2"
  }
 },
 "nbformat": 4,
 "nbformat_minor": 4
}
